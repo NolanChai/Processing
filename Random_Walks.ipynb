{
  "nbformat": 4,
  "nbformat_minor": 0,
  "metadata": {
    "colab": {
      "name": "Random Walks",
      "provenance": []
    },
    "kernelspec": {
      "name": "python3",
      "display_name": "Python 3"
    },
    "language_info": {
      "name": "python"
    }
  },
  "cells": [
    {
      "cell_type": "markdown",
      "metadata": {
        "id": "cLUxa_IVOCNM"
      },
      "source": [
        "Regular Random Walk Implementation"
      ]
    },
    {
      "cell_type": "code",
      "metadata": {
        "id": "DIOquouiN5u5"
      },
      "source": [
        "# Imports\n",
        "import pylab as lab\n",
        "import numpy as np\n",
        "import random"
      ],
      "execution_count": 2,
      "outputs": []
    },
    {
      "cell_type": "code",
      "metadata": {
        "colab": {
          "base_uri": "https://localhost:8080/",
          "height": 265
        },
        "id": "KvJ3Pa6mOJLN",
        "outputId": "511cc9ac-d25f-44e9-a650-11fb54367cba"
      },
      "source": [
        "# Iterations\n",
        "n = 1000\n",
        "\n",
        "# x and y vectors\n",
        "x = np.zeros(n)\n",
        "y = np.zeros(n)\n",
        "\n",
        "for i in range(1, n):\n",
        "    direction = random.randint(0, 3)\n",
        "    # right\n",
        "    if direction == 0: \n",
        "        x[i] = x[i - 1] + 1\n",
        "        y[i] = y[i - 1]\n",
        "    # left\n",
        "    elif direction == 1:\n",
        "        x[i] = x[i - 1] - 1\n",
        "        y[i] = y[i - 1]\n",
        "    # up\n",
        "    elif direction == 2:\n",
        "        x[i] = x[i - 1]\n",
        "        y[i] = y[i - 1] + 1\n",
        "    # down\n",
        "    elif direction == 3:\n",
        "        x[i] = x[i - 1]\n",
        "        y[i] = y[i - 1] - 1\n",
        "\n",
        "lab.plot(x, y)\n",
        "lab.show()"
      ],
      "execution_count": 8,
      "outputs": [
        {
          "output_type": "display_data",
          "data": {
            "image/png": "[encoded data removed]",
            "text/plain": [
              "<Figure size 432x288 with 1 Axes>"
            ]
          },
          "metadata": {
            "tags": [],
            "needs_background": "light"
          }
        }
      ]
    }
  ]
}